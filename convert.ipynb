{
 "cells": [
  {
   "cell_type": "code",
   "execution_count": 1,
   "metadata": {},
   "outputs": [
    {
     "name": "stdout",
     "output_type": "stream",
     "text": [
      "Press 1 : To Convert txt To csv\n",
      "Press 2 : To Convert csv To text\n",
      "Enter Value 1\n",
      "Enter file locationC:\\\\Users\\\\abhay\\\\Desktop\\\\ML\\\\abhi.txt\n",
      "Enter name of file abhi\n",
      "Conversion Completed\n"
     ]
    }
   ],
   "source": [
    "import csv\n",
    "\n",
    "print(\"Press 1 : To Convert txt To csv\")\n",
    "print(\"Press 2 : To Convert csv To text\")\n",
    "a = input(\"Enter Value \")\n",
    "if a=='1': \n",
    "    path = input(\"Enter file location\")\n",
    "    with open(path,'r') as file:\n",
    "        stripped = (line.strip() for line in file)\n",
    "        lines = (line.split(\",\") for line in stripped if line)\n",
    "        file_name=input(\"Enter name of file \")\n",
    "        with open(file_name + '.csv', 'w') as out_file:\n",
    "            writer = csv.writer(out_file)\n",
    "            writer.writerow(('name', 'key','no'))\n",
    "            writer.writerows(lines)\n",
    "        print(\"Conversion Completed\")\n",
    "elif a=='2': \n",
    "    path = input(\"Enter file location\")\n",
    "    with open(path, 'r') as file:\n",
    "        stripped = (line.strip() for line in file)\n",
    "        lines = (line.split(\",\") for line in stripped if line)\n",
    "        file_name=input(\"Enter name of file \")\n",
    "        with open(file_name + '.txt', 'w') as out_file:\n",
    "            writer = csv.writer(out_file)\n",
    "            writer.writerows(lines)\n",
    "        print(\"Conversion Completed\")\n",
    "else:\n",
    "    print(\"You Entered Wrong Choice\")"
   ]
  },
  {
   "cell_type": "code",
   "execution_count": null,
   "metadata": {},
   "outputs": [],
   "source": []
  }
 ],
 "metadata": {
  "kernelspec": {
   "display_name": "Python 3",
   "language": "python",
   "name": "python3"
  },
  "language_info": {
   "codemirror_mode": {
    "name": "ipython",
    "version": 3
   },
   "file_extension": ".py",
   "mimetype": "text/x-python",
   "name": "python",
   "nbconvert_exporter": "python",
   "pygments_lexer": "ipython3",
   "version": "3.6.4"
  }
 },
 "nbformat": 4,
 "nbformat_minor": 2
}
